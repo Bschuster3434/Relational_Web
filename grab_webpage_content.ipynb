{
 "metadata": {
  "name": ""
 },
 "nbformat": 3,
 "nbformat_minor": 0,
 "worksheets": [
  {
   "cells": [
    {
     "cell_type": "code",
     "collapsed": false,
     "input": [
      "from bs4 import BeautifulSoup\n",
      "from pandas import Series, DataFrame\n",
      "import pandas as pd\n",
      "import numpy as np\n",
      "import urllib2"
     ],
     "language": "python",
     "metadata": {},
     "outputs": [],
     "prompt_number": 1
    },
    {
     "cell_type": "code",
     "collapsed": false,
     "input": [
      "webpages = [\"https://www.coursera.org/specialization/jhudatascience/1\"\n",
      "            ,\"https://www.coursera.org/course/datasci\"\n",
      "            ,\"https://www.udacity.com/course/ud359\"\n",
      "            ,\"http://www.amazon.com/Data-Science-Business-data-analytic-thinking/dp/1449361323\"\n",
      "            ,\"http://www-01.ibm.com/software/data/infosphere/data-scientist/\"\n",
      "            ,\"http://hbr.org/2012/10/data-scientist-the-sexiest-job-of-the-21st-century/ar/1\"\n",
      "            ,\"http://cs109.org/\"\n",
      "            ,\"https://education.emc.com/guest/campaign/data_science.aspx\"\n",
      "            ,\"http://en.wikipedia.org/wiki/Data_science\"\n",
      "            ,\"http://www.informationweek.com/big-data/big-data-analytics/big-data-hiring-5-facts-from-the-field/d/d-id/1113888\"\n",
      "            ,\"http://www.opptrends.com/2014/02/microsoft-now-accepting-applications-for-research-data-science-summer-school/\"\n",
      "            ,\"http://www.forbes.com/sites/gilpress/2013/05/28/a-very-short-history-of-data-science/\"]"
     ],
     "language": "python",
     "metadata": {},
     "outputs": [],
     "prompt_number": 43
    },
    {
     "cell_type": "code",
     "collapsed": false,
     "input": [
      "sample_page = urllib2.urlopen(webpages[0])\n",
      "soup = BeautifulSoup(sample_page)"
     ],
     "language": "python",
     "metadata": {},
     "outputs": [],
     "prompt_number": 3
    },
    {
     "cell_type": "code",
     "collapsed": false,
     "input": [
      "soup.title"
     ],
     "language": "python",
     "metadata": {},
     "outputs": [
      {
       "metadata": {},
       "output_type": "pyout",
       "prompt_number": 4,
       "text": [
        "<title>Coursera.org</title>"
       ]
      }
     ],
     "prompt_number": 4
    },
    {
     "cell_type": "code",
     "collapsed": false,
     "input": [
      "print(soup.get_text())"
     ],
     "language": "python",
     "metadata": {},
     "outputs": [
      {
       "output_type": "stream",
       "stream": "stdout",
       "text": [
        "window.onerror = function(message, url, lineNum) {\n",
        "\n",
        "  // First check the URL and line number of the error\n",
        "  url = url || window.location.href;\n",
        "  // 99% of the time, errors without line numbers arent due to our code,\n",
        "  // they are due to third party plugins and browser extensions\n",
        "  if (lineNum === undefined || lineNum == null) return;\n",
        "  \n",
        "  // Now figure out the actual error message\n",
        "  // If it's an event, as triggered in several browsers\n",
        "  if (message.target && message.type) {\n",
        "    message = message.type;\n",
        "  }\n",
        "  if (!message.indexOf) {\n",
        "    message = 'Non-string, non-event error: ' + (typeof message);\n",
        "  }\n",
        "  \n",
        "  var errorDescrip = {\n",
        "    message: message,\n",
        "    script: url,\n",
        "    line: lineNum,\n",
        "    url: document.URL\n",
        "  }\n",
        "  \n",
        "  var err = {\n",
        "    key: 'page.error.javascript', \n",
        "    value: errorDescrip\n",
        "  }\n",
        "  \n",
        "  window._204 = window._204 || [];\n",
        "  window._204.push(err);\n",
        "  \n",
        "  window._gaq = window._gaq || [];\n",
        "  window._gaq.push(err);\n",
        "}Coursera.orgPlease use a modern browser  with JavaScript enabled to use Coursera.\u8bf7\u4e0b\u8f7d\u73b0\u4ee3\u7684\u6d4f\u89c8\u5668\uff08IE10\u6216Google Chrome\uff09\u6765\u4f7f\u7528Coursera\u3002loading \u00a0\u00a0Please use a modern browser  with JavaScript enabled to use Coursera.\n",
        "\n",
        "document.getElementById(\"coursera-loading-js\").style.display = 'block';(function(el) {\n",
        "  var locale = (window.localStorage ? localStorage.getItem('locale') : '') || el.getAttribute('data-locale');\n",
        "  if(/zh/i.test(locale)) {\n",
        "    document.getElementById('get-browser-zh').style.display = 'block';\n",
        "  }\n",
        "  if(document.getElementById(\"coursera-loading-js\").style.display == 'block') {\n",
        "     // prevent throw\n",
        "     require.onError = function(err) { \n",
        "       window._204 = window._204 || []; \n",
        "       window._204.push({key: 'requireErr', value: err});\n",
        "     };\n",
        "     \n",
        "     require.config({\n",
        "       enforceDefine: true,\n",
        "       waitSeconds: 75,\n",
        "       baseUrl: el.getAttribute(\"data-baseurl\"),\n",
        "       urlArgs: el.getAttribute(\"data-debug\") == \"1\" ? \"v=\" + el.getAttribute(\"data-timestamp\") : \"\",\n",
        "       shim: {\n",
        "          \"underscore\": {\n",
        "             exports: '_'\n",
        "          },\n",
        "          \"backbone\": {\n",
        "             deps: ['underscore', 'jquery'],\n",
        "             exports: 'Backbone'\n",
        "          }\n",
        "       },\n",
        "       paths: {\n",
        "          \"jquery\":       \"js/core/jquery\",\n",
        "          \"underscore\":   \"js/core/underscore\",\n",
        "          \"backbone\":     \"js/core/backbone\",\n",
        "          \"i18n\":         \"js/core/i18n._t\",\n",
        "          \"pages/home/models/user.json\": \"empty:\"\n",
        "       },\n",
        "       callback: function() {\n",
        "         require([\"pages/specialization/routes\"]); // bootup coursera\n",
        "       },\n",
        "       config: {\n",
        "         i18n: {\n",
        "           locale: locale\n",
        "         }\n",
        "       }\n",
        "     });\n",
        "  }\n",
        "})(document.getElementById(\"_require\"));\n",
        "define(\"pages/home/models/user.json\", [], function(){\n",
        "  var user = \"undefined\";\n",
        "  return user && user !== \"undefined\" ? JSON.parse(user) : null;\n",
        "});\n"
       ]
      }
     ],
     "prompt_number": 5
    },
    {
     "cell_type": "code",
     "collapsed": false,
     "input": [
      "for link in soup.find_all('a'):\n",
      "    print(link.get('href'))"
     ],
     "language": "python",
     "metadata": {},
     "outputs": [
      {
       "output_type": "stream",
       "stream": "stdout",
       "text": [
        "http://help.coursera.org/customer/portal/articles/1164387-do-i-need-any-special-software-or-computer-equipment-\n",
        "http://windows.microsoft.com/zh-cn/internet-explorer/download-ie\n",
        "https://www.google.com/intl/zh-CN/chrome/browser/\n",
        "http://help.coursera.org/customer/portal/articles/1164387-do-i-need-any-special-software-or-computer-equipment-\n"
       ]
      }
     ],
     "prompt_number": 6
    },
    {
     "cell_type": "code",
     "collapsed": false,
     "input": [
      "for info in soup.find_all('meta'):\n",
      "    try:\n",
      "        print info\n",
      "    except KeyError:\n",
      "        continue"
     ],
     "language": "python",
     "metadata": {},
     "outputs": [
      {
       "output_type": "stream",
       "stream": "stdout",
       "text": [
        "<meta content=\"IE=Edge,chrome=IE7\" http-equiv=\"X-UA-Compatible\"/>\n",
        "<meta content=\"!\" name=\"fragment\"/>\n",
        "<meta content=\"NOODP\" name=\"robots\"/>\n",
        "<meta charset=\"utf-8\"/>\n",
        "<meta content=\"Coursera\" property=\"og:title\"/>\n",
        "<meta content=\"website\" property=\"og:type\"/>\n",
        "<meta content=\"http://s3.amazonaws.com/coursera/media/Coursera_Computer_Narrow.png\" property=\"og:image\"/>\n",
        "<meta content=\"https://www.coursera.org/\" property=\"og:url\"/>\n",
        "<meta content=\"Coursera\" property=\"og:site_name\"/>\n",
        "<meta content=\"en_US\" property=\"og:locale\"/>\n",
        "<meta content=\"Take free online classes from 80+ top universities and organizations. Coursera is a social entrepreneurship company partnering with Stanford University, Yale University, Princeton University and others around the world to offer courses online for anyone to take, for free. We believe in connecting people to a great education so that anyone around the world can learn without limits.\" property=\"og:description\"/>\n",
        "<meta content=\"727836538,4807654\" property=\"fb:admins\"/>\n",
        "<meta content=\"274998519252278\" property=\"fb:app_id\"/>\n",
        "<meta content=\"Take free online classes from 80+ top universities and organizations. Coursera is a social entrepreneurship company partnering with Stanford University, Yale University, Princeton University and others around the world to offer courses online for anyone to take, for free. We believe in connecting people to a great education so that anyone around the world can learn without limits.\" name=\"description\"/>\n",
        "<meta content=\"http://s3.amazonaws.com/coursera/media/Coursera_Computer_Narrow.png\" name=\"image\"/>\n",
        "<meta content=\"app-id=736535961\" name=\"apple-itunes-app\"/>\n"
       ]
      }
     ],
     "prompt_number": 13
    },
    {
     "cell_type": "code",
     "collapsed": false,
     "input": [
      "def grab_meta(link):\n",
      "    soup = BeautifulSoup(urllib2.urlopen(link))\n",
      "    description = soup.findAll(attrs={\"name\":\"description\"})\n",
      "    return description"
     ],
     "language": "python",
     "metadata": {},
     "outputs": [],
     "prompt_number": 32
    },
    {
     "cell_type": "code",
     "collapsed": false,
     "input": [
      "meta = {}\n",
      "for link in webpages:\n",
      "    print \"now searching \" + link\n",
      "    description = grab_meta(link)\n",
      "    meta[link] = description\n",
      "    "
     ],
     "language": "python",
     "metadata": {},
     "outputs": [
      {
       "output_type": "stream",
       "stream": "stdout",
       "text": [
        "now searching https://www.coursera.org/specialization/jhudatascience/1\n",
        "now searching https://www.coursera.org/course/datasci"
       ]
      },
      {
       "output_type": "stream",
       "stream": "stdout",
       "text": [
        "\n",
        "now searching https://www.udacity.com/course/ud359"
       ]
      },
      {
       "output_type": "stream",
       "stream": "stdout",
       "text": [
        "\n",
        "now searching http://www.amazon.com/Data-Science-Business-data-analytic-thinking/dp/1449361323"
       ]
      },
      {
       "output_type": "stream",
       "stream": "stdout",
       "text": [
        "\n",
        "now searching http://www-01.ibm.com/software/data/infosphere/data-scientist/"
       ]
      },
      {
       "output_type": "stream",
       "stream": "stdout",
       "text": [
        "\n",
        "now searching http://hbr.org/2012/10/data-scientist-the-sexiest-job-of-the-21st-century/ar/1"
       ]
      },
      {
       "output_type": "stream",
       "stream": "stdout",
       "text": [
        "\n",
        "now searching http://cs109.org/"
       ]
      },
      {
       "output_type": "stream",
       "stream": "stdout",
       "text": [
        "\n",
        "now searching https://education.emc.com/guest/campaign/data_science.aspx"
       ]
      },
      {
       "output_type": "stream",
       "stream": "stdout",
       "text": [
        "\n",
        "now searching http://en.wikipedia.org/wiki/Data_science"
       ]
      },
      {
       "output_type": "stream",
       "stream": "stdout",
       "text": [
        "\n",
        "now searching http://www.informationweek.com/big-data/big-data-analytics/big-data-hiring-5-facts-from-the-field/d/d-id/1113888"
       ]
      },
      {
       "output_type": "stream",
       "stream": "stdout",
       "text": [
        "\n",
        "now searching http://www.opptrends.com/2014/02/microsoft-now-accepting-applications-for-research-data-science-summer-school/"
       ]
      },
      {
       "output_type": "stream",
       "stream": "stdout",
       "text": [
        "\n",
        "now searching http://www.forbes.com/sites/gilpress/2013/05/28/a-very-short-history-of-data-science/"
       ]
      },
      {
       "output_type": "stream",
       "stream": "stdout",
       "text": [
        "\n"
       ]
      }
     ],
     "prompt_number": 49
    },
    {
     "cell_type": "code",
     "collapsed": false,
     "input": [
      "print meta"
     ],
     "language": "python",
     "metadata": {},
     "outputs": [
      {
       "output_type": "stream",
       "stream": "stdout",
       "text": [
        "{'http://www.forbes.com/sites/gilpress/2013/05/28/a-very-short-history-of-data-science/': [<meta content=\"The story of how data scientists became sexy is mostly the story of the coupling of the mature discipline of statistics with a very young one--computer science.\u00a0 The term \u201cData Science\u201d has emerged only recently to specifically designate a new profession that is expected to make sense of the vast [...]\" name=\"description\"/>], 'http://www-01.ibm.com/software/data/infosphere/data-scientist/': [], 'https://education.emc.com/guest/campaign/data_science.aspx': [<meta content=\"EMC Education Services\" name=\"description\"/>], 'http://cs109.org/': [<meta content=\"Harvard CS109 STAT121 AC209 E-109 Data Science Course\" name=\"description\"/>], 'http://en.wikipedia.org/wiki/Data_science': [], 'https://www.coursera.org/course/datasci': [<meta content=\"Take free online classes from 80+ top universities and organizations. Coursera is a social entrepreneurship company partnering with Stanford University, Yale University, Princeton University and others around the world to offer courses online for anyone to take, for free. We believe in connecting people to a great education so that anyone around the world can learn without limits.\" name=\"description\"/>], 'http://hbr.org/2012/10/data-scientist-the-sexiest-job-of-the-21st-century/ar/1': [<meta content=\"Business management magazine, blogs, case studies, articles, books, and webinars from Harvard Business Review, addressing today's topics and challenges in business management.\" name=\"description\"/>], 'http://www.opptrends.com/2014/02/microsoft-now-accepting-applications-for-research-data-science-summer-school/': [<meta content=\"Microsoft announced today that its Research Data Science Summer School is now accepting applications. Microsoft encourages minorities, women, persons with disabilities, and students to apply. The school runs from June 16 to Aug. 8, at Microsoft Research\u2019s New York City\" name=\"description\"/>], 'https://www.coursera.org/specialization/jhudatascience/1': [<meta content=\"Take free online classes from 80+ top universities and organizations. Coursera is a social entrepreneurship company partnering with Stanford University, Yale University, Princeton University and others around the world to offer courses online for anyone to take, for free. We believe in connecting people to a great education so that anyone around the world can learn without limits.\" name=\"description\"/>], 'https://www.udacity.com/course/ud359': [<meta content=\"The Introduction to Data Science class will survey the foundational topics in data science.\" name=\"description\"/>], 'http://www.informationweek.com/big-data/big-data-analytics/big-data-hiring-5-facts-from-the-field/d/d-id/1113888': [<meta content=\"Consider this creative advice for big data job hunters and hiring managers from EMC and Pivotal execs.\" name=\"description\"/>], 'http://www.amazon.com/Data-Science-Business-data-analytic-thinking/dp/1449361323': [<meta content=\"Data Science for Business: What you need to know about data mining and data-analytic thinking [Foster Provost, Tom Fawcett] on Amazon.com. *FREE* shipping on qualifying offers. &lt;div&gt; Written by renowned data science experts Foster Provost and Tom Fawcett, Data Science for Business introduces the fundamental principles of data science\" name=\"description\"/>]}\n"
       ]
      }
     ],
     "prompt_number": 50
    },
    {
     "cell_type": "code",
     "collapsed": false,
     "input": [],
     "language": "python",
     "metadata": {},
     "outputs": [],
     "prompt_number": 31
    },
    {
     "cell_type": "code",
     "collapsed": false,
     "input": [],
     "language": "python",
     "metadata": {},
     "outputs": [],
     "prompt_number": 9
    },
    {
     "cell_type": "code",
     "collapsed": false,
     "input": [
      "\n"
     ],
     "language": "python",
     "metadata": {},
     "outputs": [],
     "prompt_number": 9
    },
    {
     "cell_type": "code",
     "collapsed": false,
     "input": [],
     "language": "python",
     "metadata": {},
     "outputs": [],
     "prompt_number": 9
    }
   ],
   "metadata": {}
  }
 ]
}