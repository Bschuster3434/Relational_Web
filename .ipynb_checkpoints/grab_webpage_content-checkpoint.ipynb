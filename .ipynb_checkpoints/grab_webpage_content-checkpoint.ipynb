{
 "metadata": {
  "name": ""
 },
 "nbformat": 3,
 "nbformat_minor": 0,
 "worksheets": [
  {
   "cells": [
    {
     "cell_type": "code",
     "collapsed": false,
     "input": [
      "from bs4 import BeautifulSoup\n",
      "from pandas import Series, DataFrame\n",
      "import pandas as pd\n",
      "import numpy as np\n",
      "import urllib2\n",
      "import nltk"
     ],
     "language": "python",
     "metadata": {},
     "outputs": [],
     "prompt_number": 1
    },
    {
     "cell_type": "code",
     "collapsed": false,
     "input": [
      "webpages = [\"https://www.coursera.org/specialization/jhudatascience/1\"\n",
      "            ,\"https://www.coursera.org/course/datasci\"\n",
      "            ,\"https://www.udacity.com/course/ud359\"\n",
      "            ,\"http://www.amazon.com/Data-Science-Business-data-analytic-thinking/dp/1449361323\"\n",
      "            ,\"http://www.ibm.com/software/data/infosphere/data-scientist/\"\n",
      "            ,\"http://hbr.org/2012/10/data-scientist-the-sexiest-job-of-the-21st-century/ar/1\"\n",
      "            ,\"http://cs109.org/\"\n",
      "            ,\"https://education.emc.com/guest/campaign/data_science.aspx\"\n",
      "            ,\"http://www.informationweek.com/big-data/big-data-analytics/big-data-hiring-5-facts-from-the-field/d/d-id/1113888\"\n",
      "            ,\"http://www.opptrends.com/2014/02/microsoft-now-accepting-applications-for-research-data-science-summer-school/\"\n",
      "            ,\"http://www.forbes.com/sites/gilpress/2013/05/28/a-very-short-history-of-data-science/\"]"
     ],
     "language": "python",
     "metadata": {},
     "outputs": [],
     "prompt_number": 39
    },
    {
     "cell_type": "code",
     "collapsed": false,
     "input": [
      "sample_page = urllib2.urlopen(webpages[0])\n",
      "soup = BeautifulSoup(sample_page)"
     ],
     "language": "python",
     "metadata": {},
     "outputs": [],
     "prompt_number": 3
    },
    {
     "cell_type": "code",
     "collapsed": false,
     "input": [
      "soup.title"
     ],
     "language": "python",
     "metadata": {},
     "outputs": [
      {
       "metadata": {},
       "output_type": "pyout",
       "prompt_number": 4,
       "text": [
        "<title>Coursera.org</title>"
       ]
      }
     ],
     "prompt_number": 4
    },
    {
     "cell_type": "code",
     "collapsed": false,
     "input": [
      "print(soup.get_text())"
     ],
     "language": "python",
     "metadata": {},
     "outputs": [
      {
       "output_type": "stream",
       "stream": "stdout",
       "text": [
        "window.onerror = function(message, url, lineNum) {\n",
        "\n",
        "  // First check the URL and line number of the error\n",
        "  url = url || window.location.href;\n",
        "  // 99% of the time, errors without line numbers arent due to our code,\n",
        "  // they are due to third party plugins and browser extensions\n",
        "  if (lineNum === undefined || lineNum == null) return;\n",
        "  \n",
        "  // Now figure out the actual error message\n",
        "  // If it's an event, as triggered in several browsers\n",
        "  if (message.target && message.type) {\n",
        "    message = message.type;\n",
        "  }\n",
        "  if (!message.indexOf) {\n",
        "    message = 'Non-string, non-event error: ' + (typeof message);\n",
        "  }\n",
        "  \n",
        "  var errorDescrip = {\n",
        "    message: message,\n",
        "    script: url,\n",
        "    line: lineNum,\n",
        "    url: document.URL\n",
        "  }\n",
        "  \n",
        "  var err = {\n",
        "    key: 'page.error.javascript', \n",
        "    value: errorDescrip\n",
        "  }\n",
        "  \n",
        "  window._204 = window._204 || [];\n",
        "  window._204.push(err);\n",
        "  \n",
        "  window._gaq = window._gaq || [];\n",
        "  window._gaq.push(err);\n",
        "}Coursera.orgPlease use a modern browser  with JavaScript enabled to use Coursera.\u8bf7\u4e0b\u8f7d\u73b0\u4ee3\u7684\u6d4f\u89c8\u5668\uff08IE10\u6216Google Chrome\uff09\u6765\u4f7f\u7528Coursera\u3002loading \u00a0\u00a0Please use a modern browser  with JavaScript enabled to use Coursera.\n",
        "\n",
        "document.getElementById(\"coursera-loading-js\").style.display = 'block';(function(el) {\n",
        "  var locale = (window.localStorage ? localStorage.getItem('locale') : '') || el.getAttribute('data-locale');\n",
        "  if(/zh/i.test(locale)) {\n",
        "    document.getElementById('get-browser-zh').style.display = 'block';\n",
        "  }\n",
        "  if(document.getElementById(\"coursera-loading-js\").style.display == 'block') {\n",
        "     // prevent throw\n",
        "     require.onError = function(err) { \n",
        "       window._204 = window._204 || []; \n",
        "       window._204.push({key: 'requireErr', value: err});\n",
        "     };\n",
        "     \n",
        "     require.config({\n",
        "       enforceDefine: true,\n",
        "       waitSeconds: 75,\n",
        "       baseUrl: el.getAttribute(\"data-baseurl\"),\n",
        "       urlArgs: el.getAttribute(\"data-debug\") == \"1\" ? \"v=\" + el.getAttribute(\"data-timestamp\") : \"\",\n",
        "       shim: {\n",
        "          \"underscore\": {\n",
        "             exports: '_'\n",
        "          },\n",
        "          \"backbone\": {\n",
        "             deps: ['underscore', 'jquery'],\n",
        "             exports: 'Backbone'\n",
        "          }\n",
        "       },\n",
        "       paths: {\n",
        "          \"jquery\":       \"js/core/jquery\",\n",
        "          \"underscore\":   \"js/core/underscore\",\n",
        "          \"backbone\":     \"js/core/backbone\",\n",
        "          \"i18n\":         \"js/core/i18n._t\",\n",
        "          \"pages/home/models/user.json\": \"empty:\"\n",
        "       },\n",
        "       callback: function() {\n",
        "         require([\"pages/specialization/routes\"]); // bootup coursera\n",
        "       },\n",
        "       config: {\n",
        "         i18n: {\n",
        "           locale: locale\n",
        "         }\n",
        "       }\n",
        "     });\n",
        "  }\n",
        "})(document.getElementById(\"_require\"));\n",
        "define(\"pages/home/models/user.json\", [], function(){\n",
        "  var user = \"undefined\";\n",
        "  return user && user !== \"undefined\" ? JSON.parse(user) : null;\n",
        "});\n"
       ]
      }
     ],
     "prompt_number": 5
    },
    {
     "cell_type": "code",
     "collapsed": false,
     "input": [
      "for link in soup.find_all('a'):\n",
      "    print(link.get('href'))"
     ],
     "language": "python",
     "metadata": {},
     "outputs": [
      {
       "output_type": "stream",
       "stream": "stdout",
       "text": [
        "http://help.coursera.org/customer/portal/articles/1164387-do-i-need-any-special-software-or-computer-equipment-\n",
        "http://windows.microsoft.com/zh-cn/internet-explorer/download-ie\n",
        "https://www.google.com/intl/zh-CN/chrome/browser/\n",
        "http://help.coursera.org/customer/portal/articles/1164387-do-i-need-any-special-software-or-computer-equipment-\n"
       ]
      }
     ],
     "prompt_number": 6
    },
    {
     "cell_type": "code",
     "collapsed": false,
     "input": [
      "for info in soup.find_all('meta'):\n",
      "    try:\n",
      "        print info\n",
      "    except KeyError:\n",
      "        continue"
     ],
     "language": "python",
     "metadata": {},
     "outputs": [
      {
       "output_type": "stream",
       "stream": "stdout",
       "text": [
        "<meta content=\"IE=Edge,chrome=IE7\" http-equiv=\"X-UA-Compatible\"/>\n",
        "<meta content=\"!\" name=\"fragment\"/>\n",
        "<meta content=\"NOODP\" name=\"robots\"/>\n",
        "<meta charset=\"utf-8\"/>\n",
        "<meta content=\"Coursera\" property=\"og:title\"/>\n",
        "<meta content=\"website\" property=\"og:type\"/>\n",
        "<meta content=\"http://s3.amazonaws.com/coursera/media/Coursera_Computer_Narrow.png\" property=\"og:image\"/>\n",
        "<meta content=\"https://www.coursera.org/\" property=\"og:url\"/>\n",
        "<meta content=\"Coursera\" property=\"og:site_name\"/>\n",
        "<meta content=\"en_US\" property=\"og:locale\"/>\n",
        "<meta content=\"Take free online classes from 80+ top universities and organizations. Coursera is a social entrepreneurship company partnering with Stanford University, Yale University, Princeton University and others around the world to offer courses online for anyone to take, for free. We believe in connecting people to a great education so that anyone around the world can learn without limits.\" property=\"og:description\"/>\n",
        "<meta content=\"727836538,4807654\" property=\"fb:admins\"/>\n",
        "<meta content=\"274998519252278\" property=\"fb:app_id\"/>\n",
        "<meta content=\"Take free online classes from 80+ top universities and organizations. Coursera is a social entrepreneurship company partnering with Stanford University, Yale University, Princeton University and others around the world to offer courses online for anyone to take, for free. We believe in connecting people to a great education so that anyone around the world can learn without limits.\" name=\"description\"/>\n",
        "<meta content=\"http://s3.amazonaws.com/coursera/media/Coursera_Computer_Narrow.png\" name=\"image\"/>\n",
        "<meta content=\"app-id=736535961\" name=\"apple-itunes-app\"/>\n"
       ]
      }
     ],
     "prompt_number": 7
    },
    {
     "cell_type": "code",
     "collapsed": false,
     "input": [
      "def grab_meta(link):\n",
      "    print \"now searching \" + link\n",
      "    soup = BeautifulSoup(urllib2.urlopen(link))\n",
      "    description = soup.findAll(attrs={\"name\":\"description\"})\n",
      "    if description == []:\n",
      "        description = soup.findAll(attrs={\"name\":\"Description\"})\n",
      "    if description == []:\n",
      "        description = soup.findAll(attrs={\"property\":\"og:description\"})\n",
      "    return description[0]"
     ],
     "language": "python",
     "metadata": {},
     "outputs": [],
     "prompt_number": 49
    },
    {
     "cell_type": "code",
     "collapsed": false,
     "input": [
      "meta = {}\n",
      "for link in webpages:\n",
      "    description = grab_meta(link)\n",
      "    meta[link] = description['content']\n",
      "    "
     ],
     "language": "python",
     "metadata": {},
     "outputs": [
      {
       "output_type": "stream",
       "stream": "stdout",
       "text": [
        "now searching https://www.coursera.org/specialization/jhudatascience/1\n",
        "now searching https://www.coursera.org/course/datasci"
       ]
      },
      {
       "output_type": "stream",
       "stream": "stdout",
       "text": [
        "\n",
        "now searching https://www.udacity.com/course/ud359"
       ]
      },
      {
       "output_type": "stream",
       "stream": "stdout",
       "text": [
        "\n",
        "now searching http://www.amazon.com/Data-Science-Business-data-analytic-thinking/dp/1449361323"
       ]
      },
      {
       "output_type": "stream",
       "stream": "stdout",
       "text": [
        "\n",
        "now searching http://www.ibm.com/software/data/infosphere/data-scientist/"
       ]
      },
      {
       "output_type": "stream",
       "stream": "stdout",
       "text": [
        "\n",
        "now searching http://hbr.org/2012/10/data-scientist-the-sexiest-job-of-the-21st-century/ar/1"
       ]
      },
      {
       "output_type": "stream",
       "stream": "stdout",
       "text": [
        "\n",
        "now searching http://cs109.org/"
       ]
      },
      {
       "output_type": "stream",
       "stream": "stdout",
       "text": [
        "\n",
        "now searching https://education.emc.com/guest/campaign/data_science.aspx"
       ]
      },
      {
       "output_type": "stream",
       "stream": "stdout",
       "text": [
        "\n",
        "now searching http://www.informationweek.com/big-data/big-data-analytics/big-data-hiring-5-facts-from-the-field/d/d-id/1113888"
       ]
      },
      {
       "output_type": "stream",
       "stream": "stdout",
       "text": [
        "\n",
        "now searching http://www.opptrends.com/2014/02/microsoft-now-accepting-applications-for-research-data-science-summer-school/"
       ]
      },
      {
       "output_type": "stream",
       "stream": "stdout",
       "text": [
        "\n",
        "now searching http://www.forbes.com/sites/gilpress/2013/05/28/a-very-short-history-of-data-science/"
       ]
      },
      {
       "output_type": "stream",
       "stream": "stdout",
       "text": [
        "\n"
       ]
      }
     ],
     "prompt_number": 41
    },
    {
     "cell_type": "code",
     "collapsed": false,
     "input": [
      "meta[webpages[2]]"
     ],
     "language": "python",
     "metadata": {},
     "outputs": [
      {
       "metadata": {},
       "output_type": "pyout",
       "prompt_number": 10,
       "text": [
        "'The Introduction to Data Science class will survey the foundational topics in data science.'"
       ]
      }
     ],
     "prompt_number": 10
    },
    {
     "cell_type": "code",
     "collapsed": false,
     "input": [
      "total_string = ''\n",
      "for i in meta.values():\n",
      "    total_string = total_string + i\n",
      "    \n",
      "    "
     ],
     "language": "python",
     "metadata": {},
     "outputs": [],
     "prompt_number": 11
    },
    {
     "cell_type": "code",
     "collapsed": false,
     "input": [
      "tolken = nltk.word_tokenize(total_string)"
     ],
     "language": "python",
     "metadata": {},
     "outputs": [],
     "prompt_number": 12
    },
    {
     "cell_type": "code",
     "collapsed": false,
     "input": [
      "unique = list(set(tolken))\n",
      "df = DataFrame(data = unique, columns = ['Set'])\n",
      "df.head()"
     ],
     "language": "python",
     "metadata": {},
     "outputs": [
      {
       "html": [
        "<div style=\"max-height:1000px;max-width:1500px;overflow:auto;\">\n",
        "<table border=\"1\" class=\"dataframe\">\n",
        "  <thead>\n",
        "    <tr style=\"text-align: right;\">\n",
        "      <th></th>\n",
        "      <th>Set</th>\n",
        "    </tr>\n",
        "  </thead>\n",
        "  <tbody>\n",
        "    <tr>\n",
        "      <th>0</th>\n",
        "      <td>  breadth</td>\n",
        "    </tr>\n",
        "    <tr>\n",
        "      <th>1</th>\n",
        "      <td>     What</td>\n",
        "    </tr>\n",
        "    <tr>\n",
        "      <th>2</th>\n",
        "      <td>    being</td>\n",
        "    </tr>\n",
        "    <tr>\n",
        "      <th>3</th>\n",
        "      <td>    AC209</td>\n",
        "    </tr>\n",
        "    <tr>\n",
        "      <th>4</th>\n",
        "      <td> Research</td>\n",
        "    </tr>\n",
        "  </tbody>\n",
        "</table>\n",
        "</div>"
       ],
       "metadata": {},
       "output_type": "pyout",
       "prompt_number": 13,
       "text": [
        "        Set\n",
        "0   breadth\n",
        "1      What\n",
        "2     being\n",
        "3     AC209\n",
        "4  Research"
       ]
      }
     ],
     "prompt_number": 13
    },
    {
     "cell_type": "code",
     "collapsed": false,
     "input": [
      "df['counts'] = [tolken.count(v) for v in df['Set']]"
     ],
     "language": "python",
     "metadata": {},
     "outputs": [],
     "prompt_number": 14
    },
    {
     "cell_type": "code",
     "collapsed": false,
     "input": [
      "df = df.sort(columns = 'counts', ascending = False)\n",
      "df.head(n = 20)"
     ],
     "language": "python",
     "metadata": {},
     "outputs": [
      {
       "html": [
        "<div style=\"max-height:1000px;max-width:1500px;overflow:auto;\">\n",
        "<table border=\"1\" class=\"dataframe\">\n",
        "  <thead>\n",
        "    <tr style=\"text-align: right;\">\n",
        "      <th></th>\n",
        "      <th>Set</th>\n",
        "      <th>counts</th>\n",
        "    </tr>\n",
        "  </thead>\n",
        "  <tbody>\n",
        "    <tr>\n",
        "      <th>141</th>\n",
        "      <td>          ,</td>\n",
        "      <td> 20</td>\n",
        "    </tr>\n",
        "    <tr>\n",
        "      <th>212</th>\n",
        "      <td>        the</td>\n",
        "      <td> 14</td>\n",
        "    </tr>\n",
        "    <tr>\n",
        "      <th>18 </th>\n",
        "      <td>         to</td>\n",
        "      <td> 14</td>\n",
        "    </tr>\n",
        "    <tr>\n",
        "      <th>157</th>\n",
        "      <td>        and</td>\n",
        "      <td> 12</td>\n",
        "    </tr>\n",
        "    <tr>\n",
        "      <th>199</th>\n",
        "      <td>       data</td>\n",
        "      <td> 10</td>\n",
        "    </tr>\n",
        "    <tr>\n",
        "      <th>91 </th>\n",
        "      <td>         of</td>\n",
        "      <td>  9</td>\n",
        "    </tr>\n",
        "    <tr>\n",
        "      <th>201</th>\n",
        "      <td>          a</td>\n",
        "      <td>  7</td>\n",
        "    </tr>\n",
        "    <tr>\n",
        "      <th>160</th>\n",
        "      <td>         is</td>\n",
        "      <td>  7</td>\n",
        "    </tr>\n",
        "    <tr>\n",
        "      <th>68 </th>\n",
        "      <td>        for</td>\n",
        "      <td>  7</td>\n",
        "    </tr>\n",
        "    <tr>\n",
        "      <th>75 </th>\n",
        "      <td> University</td>\n",
        "      <td>  6</td>\n",
        "    </tr>\n",
        "    <tr>\n",
        "      <th>115</th>\n",
        "      <td>       from</td>\n",
        "      <td>  5</td>\n",
        "    </tr>\n",
        "    <tr>\n",
        "      <th>125</th>\n",
        "      <td>       Data</td>\n",
        "      <td>  5</td>\n",
        "    </tr>\n",
        "    <tr>\n",
        "      <th>134</th>\n",
        "      <td>    Science</td>\n",
        "      <td>  5</td>\n",
        "    </tr>\n",
        "    <tr>\n",
        "      <th>140</th>\n",
        "      <td>       with</td>\n",
        "      <td>  4</td>\n",
        "    </tr>\n",
        "    <tr>\n",
        "      <th>58 </th>\n",
        "      <td>     around</td>\n",
        "      <td>  4</td>\n",
        "    </tr>\n",
        "    <tr>\n",
        "      <th>122</th>\n",
        "      <td>     anyone</td>\n",
        "      <td>  4</td>\n",
        "    </tr>\n",
        "    <tr>\n",
        "      <th>133</th>\n",
        "      <td>       that</td>\n",
        "      <td>  4</td>\n",
        "    </tr>\n",
        "    <tr>\n",
        "      <th>184</th>\n",
        "      <td>     online</td>\n",
        "      <td>  4</td>\n",
        "    </tr>\n",
        "    <tr>\n",
        "      <th>202</th>\n",
        "      <td>         in</td>\n",
        "      <td>  4</td>\n",
        "    </tr>\n",
        "    <tr>\n",
        "      <th>37 </th>\n",
        "      <td>      world</td>\n",
        "      <td>  4</td>\n",
        "    </tr>\n",
        "  </tbody>\n",
        "</table>\n",
        "</div>"
       ],
       "metadata": {},
       "output_type": "pyout",
       "prompt_number": 15,
       "text": [
        "            Set  counts\n",
        "141           ,      20\n",
        "212         the      14\n",
        "18           to      14\n",
        "157         and      12\n",
        "199        data      10\n",
        "91           of       9\n",
        "201           a       7\n",
        "160          is       7\n",
        "68          for       7\n",
        "75   University       6\n",
        "115        from       5\n",
        "125        Data       5\n",
        "134     Science       5\n",
        "140        with       4\n",
        "58       around       4\n",
        "122      anyone       4\n",
        "133        that       4\n",
        "184      online       4\n",
        "202          in       4\n",
        "37        world       4"
       ]
      }
     ],
     "prompt_number": 15
    },
    {
     "cell_type": "code",
     "collapsed": false,
     "input": [
      "long_unique = [ v for v in df['Set'] if len(v) > 3]"
     ],
     "language": "python",
     "metadata": {},
     "outputs": [],
     "prompt_number": 22
    },
    {
     "cell_type": "code",
     "collapsed": false,
     "input": [
      "long_df = df[ df.Set.isin(long_unique)]"
     ],
     "language": "python",
     "metadata": {},
     "outputs": [],
     "prompt_number": 23
    },
    {
     "cell_type": "code",
     "collapsed": false,
     "input": [
      "long_df.head(n = 10)"
     ],
     "language": "python",
     "metadata": {},
     "outputs": [
      {
       "html": [
        "<div style=\"max-height:1000px;max-width:1500px;overflow:auto;\">\n",
        "<table border=\"1\" class=\"dataframe\">\n",
        "  <thead>\n",
        "    <tr style=\"text-align: right;\">\n",
        "      <th></th>\n",
        "      <th>Set</th>\n",
        "      <th>counts</th>\n",
        "    </tr>\n",
        "  </thead>\n",
        "  <tbody>\n",
        "    <tr>\n",
        "      <th>199</th>\n",
        "      <td>       data</td>\n",
        "      <td> 10</td>\n",
        "    </tr>\n",
        "    <tr>\n",
        "      <th>75 </th>\n",
        "      <td> University</td>\n",
        "      <td>  6</td>\n",
        "    </tr>\n",
        "    <tr>\n",
        "      <th>115</th>\n",
        "      <td>       from</td>\n",
        "      <td>  5</td>\n",
        "    </tr>\n",
        "    <tr>\n",
        "      <th>125</th>\n",
        "      <td>       Data</td>\n",
        "      <td>  5</td>\n",
        "    </tr>\n",
        "    <tr>\n",
        "      <th>134</th>\n",
        "      <td>    Science</td>\n",
        "      <td>  5</td>\n",
        "    </tr>\n",
        "    <tr>\n",
        "      <th>140</th>\n",
        "      <td>       with</td>\n",
        "      <td>  4</td>\n",
        "    </tr>\n",
        "    <tr>\n",
        "      <th>58 </th>\n",
        "      <td>     around</td>\n",
        "      <td>  4</td>\n",
        "    </tr>\n",
        "    <tr>\n",
        "      <th>122</th>\n",
        "      <td>     anyone</td>\n",
        "      <td>  4</td>\n",
        "    </tr>\n",
        "    <tr>\n",
        "      <th>133</th>\n",
        "      <td>       that</td>\n",
        "      <td>  4</td>\n",
        "    </tr>\n",
        "    <tr>\n",
        "      <th>184</th>\n",
        "      <td>     online</td>\n",
        "      <td>  4</td>\n",
        "    </tr>\n",
        "  </tbody>\n",
        "</table>\n",
        "</div>"
       ],
       "metadata": {},
       "output_type": "pyout",
       "prompt_number": 24,
       "text": [
        "            Set  counts\n",
        "199        data      10\n",
        "75   University       6\n",
        "115        from       5\n",
        "125        Data       5\n",
        "134     Science       5\n",
        "140        with       4\n",
        "58       around       4\n",
        "122      anyone       4\n",
        "133        that       4\n",
        "184      online       4"
       ]
      }
     ],
     "prompt_number": 24
    },
    {
     "cell_type": "code",
     "collapsed": false,
     "input": [
      "webpages"
     ],
     "language": "python",
     "metadata": {},
     "outputs": [
      {
       "metadata": {},
       "output_type": "pyout",
       "prompt_number": 42,
       "text": [
        "['https://www.coursera.org/specialization/jhudatascience/1',\n",
        " 'https://www.coursera.org/course/datasci',\n",
        " 'https://www.udacity.com/course/ud359',\n",
        " 'http://www.amazon.com/Data-Science-Business-data-analytic-thinking/dp/1449361323',\n",
        " 'http://www.ibm.com/software/data/infosphere/data-scientist/',\n",
        " 'http://hbr.org/2012/10/data-scientist-the-sexiest-job-of-the-21st-century/ar/1',\n",
        " 'http://cs109.org/',\n",
        " 'https://education.emc.com/guest/campaign/data_science.aspx',\n",
        " 'http://www.informationweek.com/big-data/big-data-analytics/big-data-hiring-5-facts-from-the-field/d/d-id/1113888',\n",
        " 'http://www.opptrends.com/2014/02/microsoft-now-accepting-applications-for-research-data-science-summer-school/',\n",
        " 'http://www.forbes.com/sites/gilpress/2013/05/28/a-very-short-history-of-data-science/']"
       ]
      }
     ],
     "prompt_number": 42
    },
    {
     "cell_type": "code",
     "collapsed": false,
     "input": [
      "def trim_sites(page):\n",
      "    end_points = ['.com/', '.org/']\n",
      "    for end in end_points:\n",
      "        if end in page:\n",
      "            end_point = page.find(end) + len(end)\n",
      "            return page[:end_point]\n",
      "    "
     ],
     "language": "python",
     "metadata": {},
     "outputs": [],
     "prompt_number": 43
    },
    {
     "cell_type": "code",
     "collapsed": false,
     "input": [
      "trim_pages = [trim_sites(page) for page in webpages]\n"
     ],
     "language": "python",
     "metadata": {},
     "outputs": [],
     "prompt_number": 44
    },
    {
     "cell_type": "code",
     "collapsed": false,
     "input": [
      "page_info = DataFrame(data = trim_pages, columns = ['base_site'])\n",
      "page_info.ix[7] = 'https://education.emc.com/default_guest.aspx'\n",
      "page_info"
     ],
     "language": "python",
     "metadata": {},
     "outputs": [
      {
       "html": [
        "<div style=\"max-height:1000px;max-width:1500px;overflow:auto;\">\n",
        "<table border=\"1\" class=\"dataframe\">\n",
        "  <thead>\n",
        "    <tr style=\"text-align: right;\">\n",
        "      <th></th>\n",
        "      <th>base_site</th>\n",
        "    </tr>\n",
        "  </thead>\n",
        "  <tbody>\n",
        "    <tr>\n",
        "      <th>0 </th>\n",
        "      <td>                    https://www.coursera.org/</td>\n",
        "    </tr>\n",
        "    <tr>\n",
        "      <th>1 </th>\n",
        "      <td>                    https://www.coursera.org/</td>\n",
        "    </tr>\n",
        "    <tr>\n",
        "      <th>2 </th>\n",
        "      <td>                     https://www.udacity.com/</td>\n",
        "    </tr>\n",
        "    <tr>\n",
        "      <th>3 </th>\n",
        "      <td>                       http://www.amazon.com/</td>\n",
        "    </tr>\n",
        "    <tr>\n",
        "      <th>4 </th>\n",
        "      <td>                          http://www.ibm.com/</td>\n",
        "    </tr>\n",
        "    <tr>\n",
        "      <th>5 </th>\n",
        "      <td>                              http://hbr.org/</td>\n",
        "    </tr>\n",
        "    <tr>\n",
        "      <th>6 </th>\n",
        "      <td>                            http://cs109.org/</td>\n",
        "    </tr>\n",
        "    <tr>\n",
        "      <th>7 </th>\n",
        "      <td> https://education.emc.com/default_guest.aspx</td>\n",
        "    </tr>\n",
        "    <tr>\n",
        "      <th>8 </th>\n",
        "      <td>              http://www.informationweek.com/</td>\n",
        "    </tr>\n",
        "    <tr>\n",
        "      <th>9 </th>\n",
        "      <td>                    http://www.opptrends.com/</td>\n",
        "    </tr>\n",
        "    <tr>\n",
        "      <th>10</th>\n",
        "      <td>                       http://www.forbes.com/</td>\n",
        "    </tr>\n",
        "  </tbody>\n",
        "</table>\n",
        "</div>"
       ],
       "metadata": {},
       "output_type": "pyout",
       "prompt_number": 56,
       "text": [
        "                                       base_site\n",
        "0                      https://www.coursera.org/\n",
        "1                      https://www.coursera.org/\n",
        "2                       https://www.udacity.com/\n",
        "3                         http://www.amazon.com/\n",
        "4                            http://www.ibm.com/\n",
        "5                                http://hbr.org/\n",
        "6                              http://cs109.org/\n",
        "7   https://education.emc.com/default_guest.aspx\n",
        "8                http://www.informationweek.com/\n",
        "9                      http://www.opptrends.com/\n",
        "10                        http://www.forbes.com/"
       ]
      }
     ],
     "prompt_number": 56
    },
    {
     "cell_type": "code",
     "collapsed": false,
     "input": [
      "page_info['meta_content'] = [ grab_meta(link) for link in page_info.base_site ]"
     ],
     "language": "python",
     "metadata": {},
     "outputs": [
      {
       "output_type": "stream",
       "stream": "stdout",
       "text": [
        "now searching https://www.coursera.org/\n",
        "now searching https://www.coursera.org/"
       ]
      },
      {
       "output_type": "stream",
       "stream": "stdout",
       "text": [
        "\n",
        "now searching https://www.udacity.com/"
       ]
      },
      {
       "output_type": "stream",
       "stream": "stdout",
       "text": [
        "\n",
        "now searching http://www.amazon.com/"
       ]
      },
      {
       "output_type": "stream",
       "stream": "stdout",
       "text": [
        "\n",
        "now searching http://www.ibm.com/"
       ]
      },
      {
       "output_type": "stream",
       "stream": "stdout",
       "text": [
        "\n",
        "now searching http://hbr.org/"
       ]
      },
      {
       "output_type": "stream",
       "stream": "stdout",
       "text": [
        "\n",
        "now searching http://cs109.org/"
       ]
      },
      {
       "output_type": "stream",
       "stream": "stdout",
       "text": [
        "\n",
        "now searching https://education.emc.com/default_guest.aspx"
       ]
      },
      {
       "output_type": "stream",
       "stream": "stdout",
       "text": [
        "\n",
        "now searching http://www.informationweek.com/"
       ]
      },
      {
       "output_type": "stream",
       "stream": "stdout",
       "text": [
        "\n",
        "now searching http://www.opptrends.com/"
       ]
      },
      {
       "output_type": "stream",
       "stream": "stdout",
       "text": [
        "\n",
        "now searching http://www.forbes.com/"
       ]
      },
      {
       "output_type": "stream",
       "stream": "stdout",
       "text": [
        "\n"
       ]
      }
     ],
     "prompt_number": 57
    },
    {
     "cell_type": "code",
     "collapsed": false,
     "input": [
      "page_info"
     ],
     "language": "python",
     "metadata": {},
     "outputs": [
      {
       "html": [
        "<div style=\"max-height:1000px;max-width:1500px;overflow:auto;\">\n",
        "<table border=\"1\" class=\"dataframe\">\n",
        "  <thead>\n",
        "    <tr style=\"text-align: right;\">\n",
        "      <th></th>\n",
        "      <th>base_site</th>\n",
        "      <th>meta_content</th>\n",
        "    </tr>\n",
        "  </thead>\n",
        "  <tbody>\n",
        "    <tr>\n",
        "      <th>0 </th>\n",
        "      <td>                    https://www.coursera.org/</td>\n",
        "      <td> &lt;meta content=\"Take free online classes from 8...</td>\n",
        "    </tr>\n",
        "    <tr>\n",
        "      <th>1 </th>\n",
        "      <td>                    https://www.coursera.org/</td>\n",
        "      <td> &lt;meta content=\"Take free online classes from 8...</td>\n",
        "    </tr>\n",
        "    <tr>\n",
        "      <th>2 </th>\n",
        "      <td>                     https://www.udacity.com/</td>\n",
        "      <td> &lt;meta content=\"Discover online classes taught ...</td>\n",
        "    </tr>\n",
        "    <tr>\n",
        "      <th>3 </th>\n",
        "      <td>                       http://www.amazon.com/</td>\n",
        "      <td> &lt;meta content=\"Online shopping from the earth'...</td>\n",
        "    </tr>\n",
        "    <tr>\n",
        "      <th>4 </th>\n",
        "      <td>                          http://www.ibm.com/</td>\n",
        "      <td> &lt;meta content=\"The IBM corporate home page, en...</td>\n",
        "    </tr>\n",
        "    <tr>\n",
        "      <th>5 </th>\n",
        "      <td>                              http://hbr.org/</td>\n",
        "      <td> &lt;meta content=\"Business management magazine, b...</td>\n",
        "    </tr>\n",
        "    <tr>\n",
        "      <th>6 </th>\n",
        "      <td>                            http://cs109.org/</td>\n",
        "      <td> &lt;meta content=\"Harvard CS109 STAT121 AC209 E-1...</td>\n",
        "    </tr>\n",
        "    <tr>\n",
        "      <th>7 </th>\n",
        "      <td> https://education.emc.com/default_guest.aspx</td>\n",
        "      <td> &lt;meta content=\"EMC Education Services\" name=\"d...</td>\n",
        "    </tr>\n",
        "    <tr>\n",
        "      <th>8 </th>\n",
        "      <td>              http://www.informationweek.com/</td>\n",
        "      <td> &lt;meta content=\"InformationWeek.com: News, anal...</td>\n",
        "    </tr>\n",
        "    <tr>\n",
        "      <th>9 </th>\n",
        "      <td>                    http://www.opptrends.com/</td>\n",
        "      <td> &lt;meta content=\"Opptrends.com brings you latest...</td>\n",
        "    </tr>\n",
        "    <tr>\n",
        "      <th>10</th>\n",
        "      <td>                       http://www.forbes.com/</td>\n",
        "      <td> &lt;meta content=\"Forbes is a leading source for ...</td>\n",
        "    </tr>\n",
        "  </tbody>\n",
        "</table>\n",
        "</div>"
       ],
       "metadata": {},
       "output_type": "pyout",
       "prompt_number": 58,
       "text": [
        "                                       base_site                                       meta_content\n",
        "0                      https://www.coursera.org/  <meta content=\"Take free online classes from 8...\n",
        "1                      https://www.coursera.org/  <meta content=\"Take free online classes from 8...\n",
        "2                       https://www.udacity.com/  <meta content=\"Discover online classes taught ...\n",
        "3                         http://www.amazon.com/  <meta content=\"Online shopping from the earth'...\n",
        "4                            http://www.ibm.com/  <meta content=\"The IBM corporate home page, en...\n",
        "5                                http://hbr.org/  <meta content=\"Business management magazine, b...\n",
        "6                              http://cs109.org/  <meta content=\"Harvard CS109 STAT121 AC209 E-1...\n",
        "7   https://education.emc.com/default_guest.aspx  <meta content=\"EMC Education Services\" name=\"d...\n",
        "8                http://www.informationweek.com/  <meta content=\"InformationWeek.com: News, anal...\n",
        "9                      http://www.opptrends.com/  <meta content=\"Opptrends.com brings you latest...\n",
        "10                        http://www.forbes.com/  <meta content=\"Forbes is a leading source for ..."
       ]
      }
     ],
     "prompt_number": 58
    },
    {
     "cell_type": "code",
     "collapsed": false,
     "input": [],
     "language": "python",
     "metadata": {},
     "outputs": []
    }
   ],
   "metadata": {}
  }
 ]
}