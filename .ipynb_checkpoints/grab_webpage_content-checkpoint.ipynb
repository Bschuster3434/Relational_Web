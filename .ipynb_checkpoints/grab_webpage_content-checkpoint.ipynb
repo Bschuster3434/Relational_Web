{
 "metadata": {
  "name": ""
 },
 "nbformat": 3,
 "nbformat_minor": 0,
 "worksheets": [
  {
   "cells": [
    {
     "cell_type": "code",
     "collapsed": false,
     "input": [
      "from bs4 import BeautifulSoup\n",
      "from pandas import Series, DataFrame\n",
      "import pandas as pd\n",
      "import numpy as np\n",
      "import urllib2"
     ],
     "language": "python",
     "metadata": {},
     "outputs": [],
     "prompt_number": 1
    },
    {
     "cell_type": "code",
     "collapsed": false,
     "input": [
      "webpages = [\"https://www.coursera.org/specialization/jhudatascience/1\"\n",
      "            ,\"https://www.coursera.org/course/datasci\"\n",
      "            ,\"https://www.udacity.com/course/ud359\"\n",
      "            ,\"http://www.amazon.com/Data-Science-Business-data-analytic-thinking/dp/1449361323\"\n",
      "            ,\"http://www-01.ibm.com/software/data/infosphere/data-scientist/\"\n",
      "            ,\"http://hbr.org/2012/10/data-scientist-the-sexiest-job-of-the-21st-century/ar/1\"\n",
      "            ,\"http://cs109.org/\"\n",
      "            ,\"https://education.emc.com/guest/campaign/data_science.aspx\"\n",
      "            ,\"http://en.wikipedia.org/wiki/Data_science\"\n",
      "            ,\"http://www.informationweek.com/big-data/big-data-analytics/big-data-hiring-5-facts-from-the-field/d/d-id/1113888\"\n",
      "            ,\"http://www.opptrends.com/2014/02/microsoft-now-accepting-applications-for-research-data-science-summer-school/\"\n",
      "            ,\"http://www.forbes.com/sites/gilpress/2013/05/28/a-very-short-history-of-data-science/\"\n",
      "            ,\"http://www.nytimes.com/2013/04/14/education/edlife/universities-offer-courses-in-a-hot-new-field-data-science.html?pagewanted=all&_r=0\"]"
     ],
     "language": "python",
     "metadata": {},
     "outputs": [],
     "prompt_number": 2
    },
    {
     "cell_type": "code",
     "collapsed": false,
     "input": [
      "sample_page = urllib2.urlopen(webpages[0])\n",
      "soup = BeautifulSoup(sample_page)"
     ],
     "language": "python",
     "metadata": {},
     "outputs": [],
     "prompt_number": 3
    },
    {
     "cell_type": "code",
     "collapsed": false,
     "input": [
      "soup.title"
     ],
     "language": "python",
     "metadata": {},
     "outputs": [
      {
       "metadata": {},
       "output_type": "pyout",
       "prompt_number": 5,
       "text": [
        "<title>Coursera.org</title>"
       ]
      }
     ],
     "prompt_number": 5
    },
    {
     "cell_type": "code",
     "collapsed": false,
     "input": [
      "print(soup.get_text())"
     ],
     "language": "python",
     "metadata": {},
     "outputs": [
      {
       "output_type": "stream",
       "stream": "stdout",
       "text": [
        "window.onerror = function(message, url, lineNum) {\n",
        "\n",
        "  // First check the URL and line number of the error\n",
        "  url = url || window.location.href;\n",
        "  // 99% of the time, errors without line numbers arent due to our code,\n",
        "  // they are due to third party plugins and browser extensions\n",
        "  if (lineNum === undefined || lineNum == null) return;\n",
        "  \n",
        "  // Now figure out the actual error message\n",
        "  // If it's an event, as triggered in several browsers\n",
        "  if (message.target && message.type) {\n",
        "    message = message.type;\n",
        "  }\n",
        "  if (!message.indexOf) {\n",
        "    message = 'Non-string, non-event error: ' + (typeof message);\n",
        "  }\n",
        "  \n",
        "  var errorDescrip = {\n",
        "    message: message,\n",
        "    script: url,\n",
        "    line: lineNum,\n",
        "    url: document.URL\n",
        "  }\n",
        "  \n",
        "  var err = {\n",
        "    key: 'page.error.javascript', \n",
        "    value: errorDescrip\n",
        "  }\n",
        "  \n",
        "  window._204 = window._204 || [];\n",
        "  window._204.push(err);\n",
        "  \n",
        "  window._gaq = window._gaq || [];\n",
        "  window._gaq.push(err);\n",
        "}Coursera.orgPlease use a modern browser  with JavaScript enabled to use Coursera.\u8bf7\u4e0b\u8f7d\u73b0\u4ee3\u7684\u6d4f\u89c8\u5668\uff08IE10\u6216Google Chrome\uff09\u6765\u4f7f\u7528Coursera\u3002loading \u00a0\u00a0Please use a modern browser  with JavaScript enabled to use Coursera.\n",
        "\n",
        "document.getElementById(\"coursera-loading-js\").style.display = 'block';(function(el) {\n",
        "  var locale = (window.localStorage ? localStorage.getItem('locale') : '') || el.getAttribute('data-locale');\n",
        "  if(/zh/i.test(locale)) {\n",
        "    document.getElementById('get-browser-zh').style.display = 'block';\n",
        "  }\n",
        "  if(document.getElementById(\"coursera-loading-js\").style.display == 'block') {\n",
        "     // prevent throw\n",
        "     require.onError = function(err) { \n",
        "       window._204 = window._204 || []; \n",
        "       window._204.push({key: 'requireErr', value: err});\n",
        "     };\n",
        "     \n",
        "     require.config({\n",
        "       enforceDefine: true,\n",
        "       waitSeconds: 75,\n",
        "       baseUrl: el.getAttribute(\"data-baseurl\"),\n",
        "       urlArgs: el.getAttribute(\"data-debug\") == \"1\" ? \"v=\" + el.getAttribute(\"data-timestamp\") : \"\",\n",
        "       shim: {\n",
        "          \"underscore\": {\n",
        "             exports: '_'\n",
        "          },\n",
        "          \"backbone\": {\n",
        "             deps: ['underscore', 'jquery'],\n",
        "             exports: 'Backbone'\n",
        "          }\n",
        "       },\n",
        "       paths: {\n",
        "          \"jquery\":       \"js/core/jquery\",\n",
        "          \"underscore\":   \"js/core/underscore\",\n",
        "          \"backbone\":     \"js/core/backbone\",\n",
        "          \"i18n\":         \"js/core/i18n._t\",\n",
        "          \"pages/home/models/user.json\": \"empty:\"\n",
        "       },\n",
        "       callback: function() {\n",
        "         require([\"pages/specialization/routes\"]); // bootup coursera\n",
        "       },\n",
        "       config: {\n",
        "         i18n: {\n",
        "           locale: locale\n",
        "         }\n",
        "       }\n",
        "     });\n",
        "  }\n",
        "})(document.getElementById(\"_require\"));\n",
        "define(\"pages/home/models/user.json\", [], function(){\n",
        "  var user = \"undefined\";\n",
        "  return user && user !== \"undefined\" ? JSON.parse(user) : null;\n",
        "});\n"
       ]
      }
     ],
     "prompt_number": 9
    },
    {
     "cell_type": "code",
     "collapsed": false,
     "input": [
      "for link in soup.find_all('a'):\n",
      "    print(link.get('href'))"
     ],
     "language": "python",
     "metadata": {},
     "outputs": [
      {
       "output_type": "stream",
       "stream": "stdout",
       "text": [
        "http://help.coursera.org/customer/portal/articles/1164387-do-i-need-any-special-software-or-computer-equipment-\n",
        "http://windows.microsoft.com/zh-cn/internet-explorer/download-ie\n",
        "https://www.google.com/intl/zh-CN/chrome/browser/\n",
        "http://help.coursera.org/customer/portal/articles/1164387-do-i-need-any-special-software-or-computer-equipment-\n"
       ]
      }
     ],
     "prompt_number": 10
    },
    {
     "cell_type": "code",
     "collapsed": false,
     "input": [
      "for info in soup.find_all('meta'):\n",
      "    try:\n",
      "        print info['content']\n",
      "    except KeyError:\n",
      "        continue"
     ],
     "language": "python",
     "metadata": {},
     "outputs": [
      {
       "output_type": "stream",
       "stream": "stdout",
       "text": [
        "IE=Edge,chrome=IE7\n",
        "!\n",
        "NOODP\n",
        "Coursera\n",
        "website\n",
        "http://s3.amazonaws.com/coursera/media/Coursera_Computer_Narrow.png\n",
        "https://www.coursera.org/\n",
        "Coursera\n",
        "en_US\n",
        "Take free online classes from 80+ top universities and organizations. Coursera is a social entrepreneurship company partnering with Stanford University, Yale University, Princeton University and others around the world to offer courses online for anyone to take, for free. We believe in connecting people to a great education so that anyone around the world can learn without limits.\n",
        "727836538,4807654\n",
        "274998519252278\n",
        "Take free online classes from 80+ top universities and organizations. Coursera is a social entrepreneurship company partnering with Stanford University, Yale University, Princeton University and others around the world to offer courses online for anyone to take, for free. We believe in connecting people to a great education so that anyone around the world can learn without limits.\n",
        "http://s3.amazonaws.com/coursera/media/Coursera_Computer_Narrow.png\n",
        "app-id=736535961\n"
       ]
      }
     ],
     "prompt_number": 27
    },
    {
     "cell_type": "code",
     "collapsed": false,
     "input": [
      "def grab_meta(link):\n",
      "    soup = BeautifulSoup(urllib2.urlopen(link))\n",
      "    for info in soup.find_all('meta'):\n",
      "        try:\n",
      "            print info['content']\n",
      "        except KeyError:\n",
      "            continue"
     ],
     "language": "python",
     "metadata": {},
     "outputs": [],
     "prompt_number": 33
    },
    {
     "cell_type": "code",
     "collapsed": false,
     "input": [
      "grab_meta(webpages[5])"
     ],
     "language": "python",
     "metadata": {},
     "outputs": [
      {
       "output_type": "stream",
       "stream": "stdout",
       "text": [
        "text/html; charset=UTF-8\n",
        "JJGyT9kfbno_XuKiyoyVEdpPde8zGqhMBvsPTDjQOzM\n",
        "lm7vHOSlDr-O0mD_g0q12JzX2EG41n5ngUzEYICljGw\n",
        "website\n",
        "business resources books articles case studies, business management articles resources, communication, finance, accounting, leadership, managing people, international global business strategy, execution, technology, operations, organizational development, innovation, entrepreneurship, HBSP, HBP, HBO, HBR, Harvard Business School Publishing\n",
        "Business management magazine, blogs, case studies, articles, books, and webinars from Harvard Business Review, addressing today's topics and challenges in business management.\n",
        "Business management magazine, blogs, case studies, articles, books, and webinars from Harvard Business Review, addressing today's topics and challenges in business management.\n",
        "Harvard Business Review\n",
        "http://static.hbr.org/hbrg-main/resources/images/hbr_opengraph_360x185.png\n",
        "Data Scientist: The Sexiest Job of the 21st Century\n"
       ]
      }
     ],
     "prompt_number": 38
    },
    {
     "cell_type": "code",
     "collapsed": false,
     "input": [],
     "language": "python",
     "metadata": {},
     "outputs": [],
     "prompt_number": 32
    },
    {
     "cell_type": "code",
     "collapsed": false,
     "input": [
      "\n"
     ],
     "language": "python",
     "metadata": {},
     "outputs": [],
     "prompt_number": 32
    },
    {
     "cell_type": "code",
     "collapsed": false,
     "input": [],
     "language": "python",
     "metadata": {},
     "outputs": []
    }
   ],
   "metadata": {}
  }
 ]
}